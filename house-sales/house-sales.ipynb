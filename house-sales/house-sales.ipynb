{
 "cells": [
  {
   "cell_type": "markdown",
   "metadata": {},
   "source": [
    "# Analyzing House Sales Data\n",
    "We have house sales data in CSV format, we are going to use Spark to load and analyze the data"
   ]
  },
  {
   "cell_type": "code",
   "execution_count": null,
   "metadata": {},
   "outputs": [],
   "source": [
    "try:\n",
    "    spark\n",
    "except NameError:\n",
    "    # initialize Spark Session\n",
    "    import os\n",
    "    import sys\n",
    "    top_dir = os.path.abspath(os.path.join(os.getcwd(), \"../\"))\n",
    "    if top_dir not in sys.path:\n",
    "        sys.path.append(top_dir)\n",
    "\n",
    "    from init_spark import init_spark\n",
    "    spark = init_spark()\n",
    "\n",
    "print('Spark UI running on port ' + spark.sparkContext.uiWebUrl.split(':')[2])\n",
    "spark"
   ]
  },
  {
   "cell_type": "markdown",
   "metadata": {},
   "source": [
    "## Explore the data\n",
    "The data is in `data/house-sales` directory.  \n",
    "Go ahead and look at some [sample house sales data](../data/house-sales/house-sales-sample.csv).   \n",
    "It is CSV data that looks like.\n",
    "\n",
    "```\n",
    "Date,SalePrice,SqFtLot,SqFtTotLiving,Bathrooms,Bedrooms,YrBuilt,ZipCode\n",
    "1/3/06,436000,6923,2850,3,4,1947,98199\n",
    "1/26/06,595000,7000,2970,2.25,3,1967,98199\n",
    "2/7/06,618000,7680,2010,1.75,5,1950,98199\n",
    "2/9/06,432500,7000,1670,1.5,4,1963,98199\n",
    "2/17/06,725000,6000,4220,4.5,8,1957,98199\n",
    "3/1/06,998000,5854,3680,3,4,1967,98199\n",
    "\n",
    "```"
   ]
  },
  {
   "cell_type": "markdown",
   "metadata": {},
   "source": [
    "## Step-1: Load CSV Data\n",
    "We are going let Spark figure out the schema also."
   ]
  },
  {
   "cell_type": "code",
   "execution_count": null,
   "metadata": {
    "collapsed": true,
    "jupyter": {
     "outputs_hidden": true
    }
   },
   "outputs": [],
   "source": [
    "data_location = \"data/house-sales/house-sales-simplified.csv\" \n",
    "# data_location =  's3://elephantscale-public/data/house-prices/house-sales-simplified.csv'\n",
    "# data_location = 'https://elephantscale-public.s3.amazonaws.com/data/house-prices/house-sales-simplified.csv'\n",
    "\n",
    "\n",
    "sales = spark.read.\\\n",
    "        option(\"header\" ,\"true\").\\\n",
    "        option(\"inferSchema\", \"true\").\\\n",
    "        csv(data_location)\n"
   ]
  },
  {
   "cell_type": "code",
   "execution_count": null,
   "metadata": {},
   "outputs": [],
   "source": [
    "sales.count()"
   ]
  },
  {
   "cell_type": "code",
   "execution_count": null,
   "metadata": {},
   "outputs": [],
   "source": [
    "sales.show()"
   ]
  },
  {
   "cell_type": "code",
   "execution_count": null,
   "metadata": {},
   "outputs": [],
   "source": [
    "# print schema\n",
    "sales.printSchema()"
   ]
  },
  {
   "cell_type": "markdown",
   "metadata": {},
   "source": [
    "## Step-2: Ready, Set, Analyze!"
   ]
  },
  {
   "cell_type": "code",
   "execution_count": null,
   "metadata": {},
   "outputs": [],
   "source": [
    "## use describe to understand 'SalePrice'\n",
    "sales.describe(\"SalePrice\").show()"
   ]
  },
  {
   "cell_type": "code",
   "execution_count": null,
   "metadata": {},
   "outputs": [],
   "source": [
    "## allcolumns\n",
    "sales.describe().toPandas()"
   ]
  },
  {
   "cell_type": "code",
   "execution_count": null,
   "metadata": {},
   "outputs": [],
   "source": [
    "## Produce a report of 'sales by number of bedrooms' \n",
    "sales.groupBy(\"Bedrooms\").count().show()\n"
   ]
  },
  {
   "cell_type": "code",
   "execution_count": null,
   "metadata": {
    "collapsed": true,
    "jupyter": {
     "outputs_hidden": true
    }
   },
   "outputs": [],
   "source": [
    "# sort the output\n",
    "sales.groupBy(\"Bedrooms\").count().orderBy(\"Bedrooms\").show()"
   ]
  }
 ],
 "metadata": {
  "kernelspec": {
   "display_name": "Python 3",
   "language": "python",
   "name": "python3"
  },
  "language_info": {
   "codemirror_mode": {
    "name": "ipython",
    "version": 3
   },
   "file_extension": ".py",
   "mimetype": "text/x-python",
   "name": "python",
   "nbconvert_exporter": "python",
   "pygments_lexer": "ipython3",
   "version": "3.8.2"
  }
 },
 "nbformat": 4,
 "nbformat_minor": 4
}
