{
 "cells": [
  {
   "cell_type": "markdown",
   "metadata": {},
   "source": [
    "# Spark Workshop\n",
    "Provided by \n",
    "[<img src=\"es-logo.png\"/>](http://elephantscale.com)\n",
    "\n",
    "\n",
    "Questions/comments please contact us   \n",
    "[Elephant Scale](http://elephantscale.com)  \n",
    "Email : info@elephantscale.com  \n",
    "[@elephantscale](https://twitter.com/elephantscale)"
   ]
  },
  {
   "cell_type": "markdown",
   "metadata": {},
   "source": [
    "## Getting the Code + Data\n",
    "This repository is located : https://github.com/elephantscale/spark-workshop\n",
    "\n",
    "\n",
    "```bash\n",
    "    $    git clone  https://github.com/elephantscale/spark-workshop \n",
    "```"
   ]
  },
  {
   "cell_type": "markdown",
   "metadata": {},
   "source": [
    "## Labs\n",
    "\n",
    "### 1 - Install Spark\n",
    "Follow [setup-pyspark](setup-pyspark.ipynb) to set up Spark and environment.  \n",
    "\n",
    "### 2 - Hello world\n",
    "- 2.1 : [Hello Jupyter](0-testing/hello-jupyter.ipynb)\n",
    "- 2.2 : [Test the setup](0-testing/testing-123.ipynb)\n",
    "- 2.3 : [Spark Shell Basics](basics/spark-shell.ipynb)\n",
    "\n",
    "### 3 - Structured Data / CSV\n",
    "- 3.1 : [House Sales data](house-sales/house-sales.ipynb)\n",
    "\n",
    "### 4 - SQL Analytics\n",
    "- 4.1 : [SQL analytics](sql/sql.ipynb)\n",
    "\n",
    "### 5 - Structured data / JSON\n",
    "- 5.1 : [Clickstream analytics](clickstream/clickstream.ipyb)\n",
    "\n",
    "### 6 - Caching\n",
    "- 6.1 : [Caching](caching/caching.ipynb)\n",
    "\n",
    "### 7 - Text Analysis\n",
    "- 7.1 : [Spam email analysis](text-processing/simple-text.ipynb)\n"
   ]
  },
  {
   "cell_type": "code",
   "execution_count": null,
   "metadata": {},
   "outputs": [],
   "source": []
  }
 ],
 "metadata": {
  "kernelspec": {
   "display_name": "Python 3",
   "language": "python",
   "name": "python3"
  },
  "language_info": {
   "codemirror_mode": {
    "name": "ipython",
    "version": 3
   },
   "file_extension": ".py",
   "mimetype": "text/x-python",
   "name": "python",
   "nbconvert_exporter": "python",
   "pygments_lexer": "ipython3",
   "version": "3.8.2"
  }
 },
 "nbformat": 4,
 "nbformat_minor": 4
}
