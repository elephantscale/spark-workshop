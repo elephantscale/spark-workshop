{
 "cells": [
  {
   "cell_type": "markdown",
   "metadata": {},
   "source": [
    "# SQL Analytics\n",
    "Let's analyze the same 'house sales' data using SQL!"
   ]
  },
  {
   "cell_type": "code",
   "execution_count": null,
   "metadata": {},
   "outputs": [],
   "source": [
    "try:\n",
    "    spark\n",
    "except NameError:\n",
    "    # initialize Spark Session\n",
    "    import os\n",
    "    import sys\n",
    "    top_dir = os.path.abspath(os.path.join(os.getcwd(), \"../\"))\n",
    "    if top_dir not in sys.path:\n",
    "        sys.path.append(top_dir)\n",
    "\n",
    "    from init_spark import init_spark\n",
    "    spark = init_spark()\n",
    "\n",
    "print('Spark UI running on port ' + spark.sparkContext.uiWebUrl.split(':')[2])\n",
    "spark"
   ]
  },
  {
   "cell_type": "markdown",
   "metadata": {},
   "source": [
    "## Step-1: Read Data"
   ]
  },
  {
   "cell_type": "code",
   "execution_count": null,
   "metadata": {},
   "outputs": [],
   "source": [
    "## Read data\n",
    "data_location = \"data/house-sales/house-sales-simplified.csv\" \n",
    "# data_location =  's3://elephantscale-public/data/house-prices/house-sales-simplified.csv'\n",
    "# data_location = 'https://elephantscale-public.s3.amazonaws.com/data/house-prices/house-sales-simplified.csv'\n",
    "\n",
    "\n",
    "home_sales = spark.read.\\\n",
    "        option(\"header\" ,\"true\").\\\n",
    "        option(\"inferSchema\", \"true\").\\\n",
    "        csv(data_location)\n",
    "\n",
    "print (home_sales.count())\n",
    "\n",
    "home_sales.show()"
   ]
  },
  {
   "cell_type": "markdown",
   "metadata": {},
   "source": [
    "## Step-2: Create Temp Table"
   ]
  },
  {
   "cell_type": "code",
   "execution_count": null,
   "metadata": {},
   "outputs": [],
   "source": [
    "## Register as SQL table\n",
    "home_sales.createOrReplaceTempView(\"sales\")\n",
    "spark.catalog.listTables()"
   ]
  },
  {
   "cell_type": "markdown",
   "metadata": {},
   "source": [
    "## Step-3: Ready, Set, SQL !"
   ]
  },
  {
   "cell_type": "code",
   "execution_count": null,
   "metadata": {},
   "outputs": [],
   "source": [
    "## Simple SQL select\n",
    "\n",
    "spark.sql(\"select * from sales\").show()"
   ]
  },
  {
   "cell_type": "code",
   "execution_count": null,
   "metadata": {},
   "outputs": [],
   "source": [
    "## Group by query 'sales vs bedrooms'\n",
    "\n",
    "sql_str = \"\"\"\n",
    "select Bedrooms, count(*) as total \n",
    "from sales \n",
    "group by Bedrooms \n",
    "order by total desc\"\n",
    "\"\"\"\n",
    "\n",
    "spark.sql(sql_str).show()"
   ]
  },
  {
   "cell_type": "code",
   "execution_count": null,
   "metadata": {},
   "outputs": [],
   "source": [
    "## Min, Max, AVG prices\n",
    "sql_str = \"\"\"\n",
    "\"select Bedrooms, MIN(SalePrice) as min, AVG(SalePrice) as avg, MAX(SalePrice) as max \n",
    "from sales \n",
    "group by Bedrooms\n",
    "\"\"\"\n",
    "spark.sql(sql_str).show()"
   ]
  },
  {
   "cell_type": "code",
   "execution_count": null,
   "metadata": {
    "collapsed": true,
    "jupyter": {
     "outputs_hidden": true
    }
   },
   "outputs": [],
   "source": []
  }
 ],
 "metadata": {
  "kernelspec": {
   "display_name": "Python 3",
   "language": "python",
   "name": "python3"
  },
  "language_info": {
   "codemirror_mode": {
    "name": "ipython",
    "version": 3
   },
   "file_extension": ".py",
   "mimetype": "text/x-python",
   "name": "python",
   "nbconvert_exporter": "python",
   "pygments_lexer": "ipython3",
   "version": "3.8.2"
  }
 },
 "nbformat": 4,
 "nbformat_minor": 4
}
