{
 "cells": [
  {
   "cell_type": "markdown",
   "metadata": {},
   "source": [
    "# Text analytics (Unstructured)"
   ]
  },
  {
   "cell_type": "markdown",
   "metadata": {},
   "source": [
    "## Spark Env"
   ]
  },
  {
   "cell_type": "code",
   "execution_count": 1,
   "metadata": {},
   "outputs": [
    {
     "name": "stdout",
     "output_type": "stream",
     "text": [
      "Initializing Spark...\n",
      "Spark found in :  /home/ubuntu/apps/spark\n",
      "Spark config:\n",
      "\t spark.app.name=TestApp\n",
      "\tspark.master=local[*]\n",
      "\texecutor.memory=2g\n",
      "\tspark.sql.warehouse.dir=/tmp/tmp_y2z4iqp\n",
      "Spark UI running on port 4040\n",
      "Spark UI running on port 4040\n"
     ]
    },
    {
     "data": {
      "text/html": [
       "\n",
       "            <div>\n",
       "                <p><b>SparkSession - in-memory</b></p>\n",
       "                \n",
       "        <div>\n",
       "            <p><b>SparkContext</b></p>\n",
       "\n",
       "            <p><a href=\"http://f2caec67d738:4040\">Spark UI</a></p>\n",
       "\n",
       "            <dl>\n",
       "              <dt>Version</dt>\n",
       "                <dd><code>v3.0.1</code></dd>\n",
       "              <dt>Master</dt>\n",
       "                <dd><code>local[*]</code></dd>\n",
       "              <dt>AppName</dt>\n",
       "                <dd><code>TestApp</code></dd>\n",
       "            </dl>\n",
       "        </div>\n",
       "        \n",
       "            </div>\n",
       "        "
      ],
      "text/plain": [
       "<pyspark.sql.session.SparkSession at 0x7f5ba9538dc0>"
      ]
     },
     "execution_count": 1,
     "metadata": {},
     "output_type": "execute_result"
    }
   ],
   "source": [
    "try:\n",
    "    spark\n",
    "except NameError:\n",
    "    # initialize Spark Session\n",
    "    import os\n",
    "    import sys\n",
    "    top_dir = os.path.abspath(os.path.join(os.getcwd(), \"../\"))\n",
    "    if top_dir not in sys.path:\n",
    "        sys.path.append(top_dir)\n",
    "\n",
    "    from init_spark import init_spark\n",
    "    spark = init_spark()\n",
    "\n",
    "print('Spark UI running on port ' + spark.sparkContext.uiWebUrl.split(':')[2])\n",
    "spark"
   ]
  },
  {
   "cell_type": "markdown",
   "metadata": {},
   "source": [
    "## Read email data\n"
   ]
  },
  {
   "cell_type": "code",
   "execution_count": 2,
   "metadata": {},
   "outputs": [
    {
     "name": "stdout",
     "output_type": "stream",
     "text": [
      "+------------------------------------------+\n",
      "|value                                     |\n",
      "+------------------------------------------+\n",
      "|From: \"my name\" <me@me.com>               |\n",
      "|To: \"your name\" <you@you.com>             |\n",
      "|Sent-From:  4.4.4.4                       |\n",
      "|Date: 2017-11-01T16:42:15-0500            |\n",
      "|Subject: team meeting this afternoon @ 2pm|\n",
      "|                                          |\n",
      "|Team,                                     |\n",
      "|let's do a quick meeting today afternoon. |\n",
      "|Let's discuss the current project.        |\n",
      "|                                          |\n",
      "|see you then!                             |\n",
      "|From: \"me\" <me@me.com>                    |\n",
      "|To: \"your name\" <you@you.com>             |\n",
      "|Sent-From:  3.3.3.3                       |\n",
      "|Date: 2017-11-01T16:42:15-0500            |\n",
      "|Subject: Free Diploma!                    |\n",
      "|                                          |\n",
      "|!!!FREE Diploma!!!                        |\n",
      "|Get your free diploma here                |\n",
      "|Just click here!                          |\n",
      "|From: \"my name\" <me@me.com>               |\n",
      "|To: \"your name\" <you@you.com>             |\n",
      "|Sent-From:  1.1.1.1                       |\n",
      "|Date: 2017-11-01T16:42:15-0500            |\n",
      "|Subject: Check this out!                  |\n",
      "|                                          |\n",
      "|Hi,                                       |\n",
      "|can you check this proposal and approve?  |\n",
      "|thanks!                                   |\n",
      "|From: \"me\" <me@me.com>                    |\n",
      "+------------------------------------------+\n",
      "only showing top 30 rows\n",
      "\n"
     ]
    }
   ],
   "source": [
    "email_text = spark.read.text(\"../data/emails/\")\n",
    "email_text.show(30, False)"
   ]
  },
  {
   "cell_type": "code",
   "execution_count": 3,
   "metadata": {},
   "outputs": [
    {
     "data": {
      "text/plain": [
       "45"
      ]
     },
     "execution_count": 3,
     "metadata": {},
     "output_type": "execute_result"
    }
   ],
   "source": [
    "# How many lines of text? \n",
    "email_text.count()"
   ]
  },
  {
   "cell_type": "markdown",
   "metadata": {},
   "source": [
    "## Hmm SPAM!\n",
    "Let's look for spammy content.  \n",
    "For simplicity, we are going to classify email as spam if it has `!!!`"
   ]
  },
  {
   "cell_type": "code",
   "execution_count": 4,
   "metadata": {},
   "outputs": [
    {
     "name": "stdout",
     "output_type": "stream",
     "text": [
      "+------------------------+\n",
      "|value                   |\n",
      "+------------------------+\n",
      "|!!!FREE Diploma!!!      |\n",
      "|Subject: !!!HOT DEALS!!!|\n",
      "|!!!! HOT DEALS!!!!      |\n",
      "|Subject: !!!MEDS Sale!!!|\n",
      "+------------------------+\n",
      "\n"
     ]
    },
    {
     "data": {
      "text/plain": [
       "4"
      ]
     },
     "execution_count": 4,
     "metadata": {},
     "output_type": "execute_result"
    }
   ],
   "source": [
    "\n",
    "spam_lines = email_text.filter(email_text['value'].contains('!!!'))\n",
    "spam_lines.show(10, False)\n",
    "spam_lines.count()"
   ]
  },
  {
   "cell_type": "markdown",
   "metadata": {},
   "source": [
    "## Identify Spam Emails\n",
    "For this we need to know the `file_name` of the email."
   ]
  },
  {
   "cell_type": "code",
   "execution_count": 5,
   "metadata": {},
   "outputs": [
    {
     "name": "stdout",
     "output_type": "stream",
     "text": [
      "+------------------------------------------+----------------------------------------------------------------------------+\n",
      "|value                                     |file_name                                                                   |\n",
      "+------------------------------------------+----------------------------------------------------------------------------+\n",
      "|From: \"my name\" <me@me.com>               |file:///home/ubuntu/dev/work/ElephantScale/spark-workshop/data/emails/e4.txt|\n",
      "|To: \"your name\" <you@you.com>             |file:///home/ubuntu/dev/work/ElephantScale/spark-workshop/data/emails/e4.txt|\n",
      "|Sent-From:  4.4.4.4                       |file:///home/ubuntu/dev/work/ElephantScale/spark-workshop/data/emails/e4.txt|\n",
      "|Date: 2017-11-01T16:42:15-0500            |file:///home/ubuntu/dev/work/ElephantScale/spark-workshop/data/emails/e4.txt|\n",
      "|Subject: team meeting this afternoon @ 2pm|file:///home/ubuntu/dev/work/ElephantScale/spark-workshop/data/emails/e4.txt|\n",
      "|                                          |file:///home/ubuntu/dev/work/ElephantScale/spark-workshop/data/emails/e4.txt|\n",
      "|Team,                                     |file:///home/ubuntu/dev/work/ElephantScale/spark-workshop/data/emails/e4.txt|\n",
      "|let's do a quick meeting today afternoon. |file:///home/ubuntu/dev/work/ElephantScale/spark-workshop/data/emails/e4.txt|\n",
      "|Let's discuss the current project.        |file:///home/ubuntu/dev/work/ElephantScale/spark-workshop/data/emails/e4.txt|\n",
      "|                                          |file:///home/ubuntu/dev/work/ElephantScale/spark-workshop/data/emails/e4.txt|\n",
      "|see you then!                             |file:///home/ubuntu/dev/work/ElephantScale/spark-workshop/data/emails/e4.txt|\n",
      "|From: \"me\" <me@me.com>                    |file:///home/ubuntu/dev/work/ElephantScale/spark-workshop/data/emails/e3.txt|\n",
      "|To: \"your name\" <you@you.com>             |file:///home/ubuntu/dev/work/ElephantScale/spark-workshop/data/emails/e3.txt|\n",
      "|Sent-From:  3.3.3.3                       |file:///home/ubuntu/dev/work/ElephantScale/spark-workshop/data/emails/e3.txt|\n",
      "|Date: 2017-11-01T16:42:15-0500            |file:///home/ubuntu/dev/work/ElephantScale/spark-workshop/data/emails/e3.txt|\n",
      "|Subject: Free Diploma!                    |file:///home/ubuntu/dev/work/ElephantScale/spark-workshop/data/emails/e3.txt|\n",
      "|                                          |file:///home/ubuntu/dev/work/ElephantScale/spark-workshop/data/emails/e3.txt|\n",
      "|!!!FREE Diploma!!!                        |file:///home/ubuntu/dev/work/ElephantScale/spark-workshop/data/emails/e3.txt|\n",
      "|Get your free diploma here                |file:///home/ubuntu/dev/work/ElephantScale/spark-workshop/data/emails/e3.txt|\n",
      "|Just click here!                          |file:///home/ubuntu/dev/work/ElephantScale/spark-workshop/data/emails/e3.txt|\n",
      "|From: \"my name\" <me@me.com>               |file:///home/ubuntu/dev/work/ElephantScale/spark-workshop/data/emails/e1.txt|\n",
      "|To: \"your name\" <you@you.com>             |file:///home/ubuntu/dev/work/ElephantScale/spark-workshop/data/emails/e1.txt|\n",
      "|Sent-From:  1.1.1.1                       |file:///home/ubuntu/dev/work/ElephantScale/spark-workshop/data/emails/e1.txt|\n",
      "|Date: 2017-11-01T16:42:15-0500            |file:///home/ubuntu/dev/work/ElephantScale/spark-workshop/data/emails/e1.txt|\n",
      "|Subject: Check this out!                  |file:///home/ubuntu/dev/work/ElephantScale/spark-workshop/data/emails/e1.txt|\n",
      "|                                          |file:///home/ubuntu/dev/work/ElephantScale/spark-workshop/data/emails/e1.txt|\n",
      "|Hi,                                       |file:///home/ubuntu/dev/work/ElephantScale/spark-workshop/data/emails/e1.txt|\n",
      "|can you check this proposal and approve?  |file:///home/ubuntu/dev/work/ElephantScale/spark-workshop/data/emails/e1.txt|\n",
      "|thanks!                                   |file:///home/ubuntu/dev/work/ElephantScale/spark-workshop/data/emails/e1.txt|\n",
      "|From: \"me\" <me@me.com>                    |file:///home/ubuntu/dev/work/ElephantScale/spark-workshop/data/emails/e2.txt|\n",
      "|To: \"your name\" <you@you.com>             |file:///home/ubuntu/dev/work/ElephantScale/spark-workshop/data/emails/e2.txt|\n",
      "|Sent-From:  2.2.2.2                       |file:///home/ubuntu/dev/work/ElephantScale/spark-workshop/data/emails/e2.txt|\n",
      "|Date: 2017-11-01T16:42:15-0500            |file:///home/ubuntu/dev/work/ElephantScale/spark-workshop/data/emails/e2.txt|\n",
      "|Subject: !!!HOT DEALS!!!                  |file:///home/ubuntu/dev/work/ElephantScale/spark-workshop/data/emails/e2.txt|\n",
      "|                                          |file:///home/ubuntu/dev/work/ElephantScale/spark-workshop/data/emails/e2.txt|\n",
      "|!!!! HOT DEALS!!!!                        |file:///home/ubuntu/dev/work/ElephantScale/spark-workshop/data/emails/e2.txt|\n",
      "|waiting for you                           |file:///home/ubuntu/dev/work/ElephantScale/spark-workshop/data/emails/e2.txt|\n",
      "|Just click here!                          |file:///home/ubuntu/dev/work/ElephantScale/spark-workshop/data/emails/e2.txt|\n",
      "|From: \"me\" <me@me.com>                    |file:///home/ubuntu/dev/work/ElephantScale/spark-workshop/data/emails/e5.txt|\n",
      "|To: \"your name\" <you@you.com>             |file:///home/ubuntu/dev/work/ElephantScale/spark-workshop/data/emails/e5.txt|\n",
      "|Sent-From:  5.5.5.5                       |file:///home/ubuntu/dev/work/ElephantScale/spark-workshop/data/emails/e5.txt|\n",
      "|Date: 2017-11-01T16:42:15-0500            |file:///home/ubuntu/dev/work/ElephantScale/spark-workshop/data/emails/e5.txt|\n",
      "|Subject: !!!MEDS Sale!!!                  |file:///home/ubuntu/dev/work/ElephantScale/spark-workshop/data/emails/e5.txt|\n",
      "|                                          |file:///home/ubuntu/dev/work/ElephantScale/spark-workshop/data/emails/e5.txt|\n",
      "|Super sale going now!                     |file:///home/ubuntu/dev/work/ElephantScale/spark-workshop/data/emails/e5.txt|\n",
      "+------------------------------------------+----------------------------------------------------------------------------+\n",
      "\n"
     ]
    }
   ],
   "source": [
    "from pyspark.sql.functions import input_file_name\n",
    "\n",
    "emails = spark.read.text(\"../data/emails/\").withColumn(\"file_name\", input_file_name())\n",
    "emails.show(100, False)"
   ]
  },
  {
   "cell_type": "code",
   "execution_count": 6,
   "metadata": {},
   "outputs": [
    {
     "name": "stdout",
     "output_type": "stream",
     "text": [
      "+------------------------+----------------------------------------------------------------------------+\n",
      "|value                   |file_name                                                                   |\n",
      "+------------------------+----------------------------------------------------------------------------+\n",
      "|!!!FREE Diploma!!!      |file:///home/ubuntu/dev/work/ElephantScale/spark-workshop/data/emails/e3.txt|\n",
      "|Subject: !!!HOT DEALS!!!|file:///home/ubuntu/dev/work/ElephantScale/spark-workshop/data/emails/e2.txt|\n",
      "|!!!! HOT DEALS!!!!      |file:///home/ubuntu/dev/work/ElephantScale/spark-workshop/data/emails/e2.txt|\n",
      "|Subject: !!!MEDS Sale!!!|file:///home/ubuntu/dev/work/ElephantScale/spark-workshop/data/emails/e5.txt|\n",
      "+------------------------+----------------------------------------------------------------------------+\n",
      "\n"
     ]
    }
   ],
   "source": [
    "## Find Spam\n",
    "\n",
    "spam_lines = emails.filter(emails['value'].contains('!!!'))\n",
    "spam_lines.show(10, False)"
   ]
  },
  {
   "cell_type": "code",
   "execution_count": 7,
   "metadata": {},
   "outputs": [
    {
     "name": "stdout",
     "output_type": "stream",
     "text": [
      "+----------------------------------------------------------------------------+\n",
      "|file_name                                                                   |\n",
      "+----------------------------------------------------------------------------+\n",
      "|file:///home/ubuntu/dev/work/ElephantScale/spark-workshop/data/emails/e3.txt|\n",
      "|file:///home/ubuntu/dev/work/ElephantScale/spark-workshop/data/emails/e2.txt|\n",
      "|file:///home/ubuntu/dev/work/ElephantScale/spark-workshop/data/emails/e2.txt|\n",
      "|file:///home/ubuntu/dev/work/ElephantScale/spark-workshop/data/emails/e5.txt|\n",
      "+----------------------------------------------------------------------------+\n",
      "\n"
     ]
    }
   ],
   "source": [
    "## select the file names\n",
    "spam_lines.select('file_name').show(10, False)"
   ]
  },
  {
   "cell_type": "code",
   "execution_count": 8,
   "metadata": {},
   "outputs": [
    {
     "name": "stdout",
     "output_type": "stream",
     "text": [
      "+----------------------------------------------------------------------------+\n",
      "|file_name                                                                   |\n",
      "+----------------------------------------------------------------------------+\n",
      "|file:///home/ubuntu/dev/work/ElephantScale/spark-workshop/data/emails/e3.txt|\n",
      "|file:///home/ubuntu/dev/work/ElephantScale/spark-workshop/data/emails/e5.txt|\n",
      "|file:///home/ubuntu/dev/work/ElephantScale/spark-workshop/data/emails/e2.txt|\n",
      "+----------------------------------------------------------------------------+\n",
      "\n"
     ]
    }
   ],
   "source": [
    "## Distinct\n",
    "spam_lines.select('file_name').distinct().show(10, False)"
   ]
  },
  {
   "cell_type": "code",
   "execution_count": 9,
   "metadata": {},
   "outputs": [
    {
     "name": "stdout",
     "output_type": "stream",
     "text": [
      "+----------------------------------------------------------------------------+-----+\n",
      "|file_name                                                                   |count|\n",
      "+----------------------------------------------------------------------------+-----+\n",
      "|file:///home/ubuntu/dev/work/ElephantScale/spark-workshop/data/emails/e3.txt|1    |\n",
      "|file:///home/ubuntu/dev/work/ElephantScale/spark-workshop/data/emails/e5.txt|1    |\n",
      "|file:///home/ubuntu/dev/work/ElephantScale/spark-workshop/data/emails/e2.txt|2    |\n",
      "+----------------------------------------------------------------------------+-----+\n",
      "\n"
     ]
    }
   ],
   "source": [
    "## group by\n",
    "spam_lines.groupby('file_name').count().show(10, False)"
   ]
  },
  {
   "cell_type": "code",
   "execution_count": null,
   "metadata": {
    "collapsed": true,
    "jupyter": {
     "outputs_hidden": true
    }
   },
   "outputs": [],
   "source": []
  }
 ],
 "metadata": {
  "kernelspec": {
   "display_name": "Python 3",
   "language": "python",
   "name": "python3"
  },
  "language_info": {
   "codemirror_mode": {
    "name": "ipython",
    "version": 3
   },
   "file_extension": ".py",
   "mimetype": "text/x-python",
   "name": "python",
   "nbconvert_exporter": "python",
   "pygments_lexer": "ipython3",
   "version": "3.8.2"
  }
 },
 "nbformat": 4,
 "nbformat_minor": 4
}
